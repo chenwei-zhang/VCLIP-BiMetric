{
 "cells": [
  {
   "cell_type": "code",
   "execution_count": 13,
   "metadata": {},
   "outputs": [],
   "source": [
    "import numpy as np\n",
    "import torch\n",
    "import json\n",
    "import skvideo.io"
   ]
  },
  {
   "cell_type": "code",
   "execution_count": 14,
   "metadata": {},
   "outputs": [],
   "source": [
    "path = '/home/chenwei/Desktop/Github/T2Vmodels/datasets'"
   ]
  },
  {
   "cell_type": "markdown",
   "metadata": {},
   "source": [
    "## Read and pre-processing prommpts"
   ]
  },
  {
   "cell_type": "code",
   "execution_count": 33,
   "metadata": {},
   "outputs": [],
   "source": [
    "# load the text data\n",
    "with open(f'{path}/prompt.txt') as f:\n",
    "    raw_prompts = f.readlines()"
   ]
  },
  {
   "cell_type": "code",
   "execution_count": 34,
   "metadata": {},
   "outputs": [],
   "source": [
    "# remove the id and '\\n' in the begining and end of each prompt\n",
    "prompts = []\n",
    "for i, raw in enumerate(raw_prompts):\n",
    "    prompts.append(raw.split(\"&\")[1][:-1])"
   ]
  },
  {
   "cell_type": "code",
   "execution_count": 38,
   "metadata": {},
   "outputs": [
    {
     "data": {
      "text/plain": [
       "(101, 101)"
      ]
     },
     "execution_count": 38,
     "metadata": {},
     "output_type": "execute_result"
    }
   ],
   "source": [
    "\"\"\"data_a: the full sentences of the prompt\n",
    "    data_b: the splited sentences of the prompt\n",
    "\"\"\"\n",
    "prompts_a = prompts[0::2]\n",
    "prompts_b = prompts[1::2]\n",
    "len(prompts_a), len(prompts_b)"
   ]
  },
  {
   "cell_type": "code",
   "execution_count": 39,
   "metadata": {},
   "outputs": [
    {
     "data": {
      "text/plain": [
       "(' “A woman”, “is skateboarding”, “in autumn.”',\n",
       " ' “A woman”, “is running”, “in summer.”')"
      ]
     },
     "execution_count": 39,
     "metadata": {},
     "output_type": "execute_result"
    }
   ],
   "source": [
    "prompts_b[-1], prompts_b[-2]"
   ]
  },
  {
   "cell_type": "code",
   "execution_count": 40,
   "metadata": {},
   "outputs": [],
   "source": [
    "# %%script echo skipping\n",
    "# save the prompts to npy files for further v2t models inference\n",
    "with open(f'{path}/prompts.npy',\"wb\") as fs:\n",
    "    np.savez(fs, \n",
    "             prompts_a = prompts_a,\n",
    "             prompts_b = prompts_b)"
   ]
  },
  {
   "cell_type": "code",
   "execution_count": 41,
   "metadata": {},
   "outputs": [
    {
     "data": {
      "text/plain": [
       "((101,), (101,))"
      ]
     },
     "execution_count": 41,
     "metadata": {},
     "output_type": "execute_result"
    }
   ],
   "source": [
    "prompts =np.load(f'{path}/prompts.npy', 'r')\n",
    "prompts.files\n",
    "\n",
    "prompts_a = prompts['prompts_a']\n",
    "prompts_b = prompts['prompts_b']\n",
    "\n",
    "prompts_a.shape, prompts_b.shape"
   ]
  },
  {
   "cell_type": "code",
   "execution_count": 42,
   "metadata": {},
   "outputs": [
    {
     "data": {
      "text/plain": [
       "(' “A woman”, “is skateboarding”, “in autumn.”',\n",
       " ' “A woman”, “is running”, “in summer.”')"
      ]
     },
     "execution_count": 42,
     "metadata": {},
     "output_type": "execute_result"
    }
   ],
   "source": [
    "prompts_b[-1], prompts_b[-2]"
   ]
  },
  {
   "cell_type": "markdown",
   "metadata": {},
   "source": [
    "## Convert gif to video"
   ]
  },
  {
   "cell_type": "code",
   "execution_count": 3,
   "metadata": {},
   "outputs": [],
   "source": [
    "import moviepy.editor as mp"
   ]
  },
  {
   "cell_type": "code",
   "execution_count": 4,
   "metadata": {},
   "outputs": [],
   "source": [
    "path = '/home/chenwei/Desktop/Github/T2Vmodels/datasets'"
   ]
  },
  {
   "cell_type": "code",
   "execution_count": 5,
   "metadata": {},
   "outputs": [
    {
     "name": "stdout",
     "output_type": "stream",
     "text": [
      "Moviepy - Building video /home/chenwei/Desktop/Github/T2Vmodels/datasets/cogvideos/0.mp4.\n",
      "Moviepy - Writing video /home/chenwei/Desktop/Github/T2Vmodels/datasets/cogvideos/0.mp4\n",
      "\n"
     ]
    },
    {
     "name": "stderr",
     "output_type": "stream",
     "text": [
      "                                                   \r"
     ]
    },
    {
     "name": "stdout",
     "output_type": "stream",
     "text": [
      "Moviepy - Done !\n",
      "Moviepy - video ready /home/chenwei/Desktop/Github/T2Vmodels/datasets/cogvideos/0.mp4\n",
      "Moviepy - Building video /home/chenwei/Desktop/Github/T2Vmodels/datasets/cogvideos/1.mp4.\n",
      "Moviepy - Writing video /home/chenwei/Desktop/Github/T2Vmodels/datasets/cogvideos/1.mp4\n",
      "\n"
     ]
    },
    {
     "name": "stderr",
     "output_type": "stream",
     "text": [
      "                                                   \r"
     ]
    },
    {
     "name": "stdout",
     "output_type": "stream",
     "text": [
      "Moviepy - Done !\n",
      "Moviepy - video ready /home/chenwei/Desktop/Github/T2Vmodels/datasets/cogvideos/1.mp4\n",
      "Moviepy - Building video /home/chenwei/Desktop/Github/T2Vmodels/datasets/cogvideos/2.mp4.\n",
      "Moviepy - Writing video /home/chenwei/Desktop/Github/T2Vmodels/datasets/cogvideos/2.mp4\n",
      "\n"
     ]
    },
    {
     "name": "stderr",
     "output_type": "stream",
     "text": [
      "                                                   \r"
     ]
    },
    {
     "name": "stdout",
     "output_type": "stream",
     "text": [
      "Moviepy - Done !\n",
      "Moviepy - video ready /home/chenwei/Desktop/Github/T2Vmodels/datasets/cogvideos/2.mp4\n",
      "Moviepy - Building video /home/chenwei/Desktop/Github/T2Vmodels/datasets/cogvideos/3.mp4.\n",
      "Moviepy - Writing video /home/chenwei/Desktop/Github/T2Vmodels/datasets/cogvideos/3.mp4\n",
      "\n"
     ]
    },
    {
     "name": "stderr",
     "output_type": "stream",
     "text": [
      "                                                   \r"
     ]
    },
    {
     "name": "stdout",
     "output_type": "stream",
     "text": [
      "Moviepy - Done !\n",
      "Moviepy - video ready /home/chenwei/Desktop/Github/T2Vmodels/datasets/cogvideos/3.mp4\n",
      "Moviepy - Building video /home/chenwei/Desktop/Github/T2Vmodels/datasets/cogvideos/4.mp4.\n",
      "Moviepy - Writing video /home/chenwei/Desktop/Github/T2Vmodels/datasets/cogvideos/4.mp4\n",
      "\n"
     ]
    },
    {
     "name": "stderr",
     "output_type": "stream",
     "text": [
      "                                                   \r"
     ]
    },
    {
     "name": "stdout",
     "output_type": "stream",
     "text": [
      "Moviepy - Done !\n",
      "Moviepy - video ready /home/chenwei/Desktop/Github/T2Vmodels/datasets/cogvideos/4.mp4\n",
      "Moviepy - Building video /home/chenwei/Desktop/Github/T2Vmodels/datasets/cogvideos/5.mp4.\n",
      "Moviepy - Writing video /home/chenwei/Desktop/Github/T2Vmodels/datasets/cogvideos/5.mp4\n",
      "\n"
     ]
    },
    {
     "name": "stderr",
     "output_type": "stream",
     "text": [
      "                                                   \r"
     ]
    },
    {
     "name": "stdout",
     "output_type": "stream",
     "text": [
      "Moviepy - Done !\n",
      "Moviepy - video ready /home/chenwei/Desktop/Github/T2Vmodels/datasets/cogvideos/5.mp4\n",
      "Moviepy - Building video /home/chenwei/Desktop/Github/T2Vmodels/datasets/cogvideos/6.mp4.\n",
      "Moviepy - Writing video /home/chenwei/Desktop/Github/T2Vmodels/datasets/cogvideos/6.mp4\n",
      "\n"
     ]
    },
    {
     "name": "stderr",
     "output_type": "stream",
     "text": [
      "                                                   \r"
     ]
    },
    {
     "name": "stdout",
     "output_type": "stream",
     "text": [
      "Moviepy - Done !\n",
      "Moviepy - video ready /home/chenwei/Desktop/Github/T2Vmodels/datasets/cogvideos/6.mp4\n",
      "Moviepy - Building video /home/chenwei/Desktop/Github/T2Vmodels/datasets/cogvideos/7.mp4.\n",
      "Moviepy - Writing video /home/chenwei/Desktop/Github/T2Vmodels/datasets/cogvideos/7.mp4\n",
      "\n"
     ]
    },
    {
     "name": "stderr",
     "output_type": "stream",
     "text": [
      "                                                   \r"
     ]
    },
    {
     "name": "stdout",
     "output_type": "stream",
     "text": [
      "Moviepy - Done !\n",
      "Moviepy - video ready /home/chenwei/Desktop/Github/T2Vmodels/datasets/cogvideos/7.mp4\n",
      "Moviepy - Building video /home/chenwei/Desktop/Github/T2Vmodels/datasets/cogvideos/8.mp4.\n",
      "Moviepy - Writing video /home/chenwei/Desktop/Github/T2Vmodels/datasets/cogvideos/8.mp4\n",
      "\n"
     ]
    },
    {
     "name": "stderr",
     "output_type": "stream",
     "text": [
      "                                                   \r"
     ]
    },
    {
     "name": "stdout",
     "output_type": "stream",
     "text": [
      "Moviepy - Done !\n",
      "Moviepy - video ready /home/chenwei/Desktop/Github/T2Vmodels/datasets/cogvideos/8.mp4\n",
      "Moviepy - Building video /home/chenwei/Desktop/Github/T2Vmodels/datasets/cogvideos/9.mp4.\n",
      "Moviepy - Writing video /home/chenwei/Desktop/Github/T2Vmodels/datasets/cogvideos/9.mp4\n",
      "\n"
     ]
    },
    {
     "name": "stderr",
     "output_type": "stream",
     "text": [
      "                                                   \r"
     ]
    },
    {
     "name": "stdout",
     "output_type": "stream",
     "text": [
      "Moviepy - Done !\n",
      "Moviepy - video ready /home/chenwei/Desktop/Github/T2Vmodels/datasets/cogvideos/9.mp4\n",
      "Moviepy - Building video /home/chenwei/Desktop/Github/T2Vmodels/datasets/cogvideos/10.mp4.\n",
      "Moviepy - Writing video /home/chenwei/Desktop/Github/T2Vmodels/datasets/cogvideos/10.mp4\n",
      "\n"
     ]
    },
    {
     "name": "stderr",
     "output_type": "stream",
     "text": [
      "                                                             \r"
     ]
    },
    {
     "name": "stdout",
     "output_type": "stream",
     "text": [
      "Moviepy - Done !\n",
      "Moviepy - video ready /home/chenwei/Desktop/Github/T2Vmodels/datasets/cogvideos/10.mp4\n",
      "Moviepy - Building video /home/chenwei/Desktop/Github/T2Vmodels/datasets/cogvideos/11.mp4.\n",
      "Moviepy - Writing video /home/chenwei/Desktop/Github/T2Vmodels/datasets/cogvideos/11.mp4\n",
      "\n"
     ]
    },
    {
     "name": "stderr",
     "output_type": "stream",
     "text": [
      "                                                   \r"
     ]
    },
    {
     "name": "stdout",
     "output_type": "stream",
     "text": [
      "Moviepy - Done !\n",
      "Moviepy - video ready /home/chenwei/Desktop/Github/T2Vmodels/datasets/cogvideos/11.mp4\n",
      "Moviepy - Building video /home/chenwei/Desktop/Github/T2Vmodels/datasets/cogvideos/12.mp4.\n",
      "Moviepy - Writing video /home/chenwei/Desktop/Github/T2Vmodels/datasets/cogvideos/12.mp4\n",
      "\n"
     ]
    },
    {
     "name": "stderr",
     "output_type": "stream",
     "text": [
      "                                                   \r"
     ]
    },
    {
     "name": "stdout",
     "output_type": "stream",
     "text": [
      "Moviepy - Done !\n",
      "Moviepy - video ready /home/chenwei/Desktop/Github/T2Vmodels/datasets/cogvideos/12.mp4\n",
      "Moviepy - Building video /home/chenwei/Desktop/Github/T2Vmodels/datasets/cogvideos/13.mp4.\n",
      "Moviepy - Writing video /home/chenwei/Desktop/Github/T2Vmodels/datasets/cogvideos/13.mp4\n",
      "\n"
     ]
    },
    {
     "name": "stderr",
     "output_type": "stream",
     "text": [
      "                                                   \r"
     ]
    },
    {
     "name": "stdout",
     "output_type": "stream",
     "text": [
      "Moviepy - Done !\n",
      "Moviepy - video ready /home/chenwei/Desktop/Github/T2Vmodels/datasets/cogvideos/13.mp4\n",
      "Moviepy - Building video /home/chenwei/Desktop/Github/T2Vmodels/datasets/cogvideos/14.mp4.\n",
      "Moviepy - Writing video /home/chenwei/Desktop/Github/T2Vmodels/datasets/cogvideos/14.mp4\n",
      "\n"
     ]
    },
    {
     "name": "stderr",
     "output_type": "stream",
     "text": [
      "                                                   \r"
     ]
    },
    {
     "name": "stdout",
     "output_type": "stream",
     "text": [
      "Moviepy - Done !\n",
      "Moviepy - video ready /home/chenwei/Desktop/Github/T2Vmodels/datasets/cogvideos/14.mp4\n",
      "Moviepy - Building video /home/chenwei/Desktop/Github/T2Vmodels/datasets/cogvideos/15.mp4.\n",
      "Moviepy - Writing video /home/chenwei/Desktop/Github/T2Vmodels/datasets/cogvideos/15.mp4\n",
      "\n"
     ]
    },
    {
     "name": "stderr",
     "output_type": "stream",
     "text": [
      "                                                   \r"
     ]
    },
    {
     "name": "stdout",
     "output_type": "stream",
     "text": [
      "Moviepy - Done !\n",
      "Moviepy - video ready /home/chenwei/Desktop/Github/T2Vmodels/datasets/cogvideos/15.mp4\n",
      "Moviepy - Building video /home/chenwei/Desktop/Github/T2Vmodels/datasets/cogvideos/16.mp4.\n",
      "Moviepy - Writing video /home/chenwei/Desktop/Github/T2Vmodels/datasets/cogvideos/16.mp4\n",
      "\n"
     ]
    },
    {
     "name": "stderr",
     "output_type": "stream",
     "text": [
      "                                                   \r"
     ]
    },
    {
     "name": "stdout",
     "output_type": "stream",
     "text": [
      "Moviepy - Done !\n",
      "Moviepy - video ready /home/chenwei/Desktop/Github/T2Vmodels/datasets/cogvideos/16.mp4\n",
      "Moviepy - Building video /home/chenwei/Desktop/Github/T2Vmodels/datasets/cogvideos/17.mp4.\n",
      "Moviepy - Writing video /home/chenwei/Desktop/Github/T2Vmodels/datasets/cogvideos/17.mp4\n",
      "\n"
     ]
    },
    {
     "name": "stderr",
     "output_type": "stream",
     "text": [
      "                                                             \r"
     ]
    },
    {
     "name": "stdout",
     "output_type": "stream",
     "text": [
      "Moviepy - Done !\n",
      "Moviepy - video ready /home/chenwei/Desktop/Github/T2Vmodels/datasets/cogvideos/17.mp4\n",
      "Moviepy - Building video /home/chenwei/Desktop/Github/T2Vmodels/datasets/cogvideos/18.mp4.\n",
      "Moviepy - Writing video /home/chenwei/Desktop/Github/T2Vmodels/datasets/cogvideos/18.mp4\n",
      "\n"
     ]
    },
    {
     "name": "stderr",
     "output_type": "stream",
     "text": [
      "                                                   \r"
     ]
    },
    {
     "name": "stdout",
     "output_type": "stream",
     "text": [
      "Moviepy - Done !\n",
      "Moviepy - video ready /home/chenwei/Desktop/Github/T2Vmodels/datasets/cogvideos/18.mp4\n",
      "Moviepy - Building video /home/chenwei/Desktop/Github/T2Vmodels/datasets/cogvideos/19.mp4.\n",
      "Moviepy - Writing video /home/chenwei/Desktop/Github/T2Vmodels/datasets/cogvideos/19.mp4\n",
      "\n"
     ]
    },
    {
     "name": "stderr",
     "output_type": "stream",
     "text": [
      "                                                   \r"
     ]
    },
    {
     "name": "stdout",
     "output_type": "stream",
     "text": [
      "Moviepy - Done !\n",
      "Moviepy - video ready /home/chenwei/Desktop/Github/T2Vmodels/datasets/cogvideos/19.mp4\n",
      "Moviepy - Building video /home/chenwei/Desktop/Github/T2Vmodels/datasets/cogvideos/20.mp4.\n",
      "Moviepy - Writing video /home/chenwei/Desktop/Github/T2Vmodels/datasets/cogvideos/20.mp4\n",
      "\n"
     ]
    },
    {
     "name": "stderr",
     "output_type": "stream",
     "text": [
      "                                                   \r"
     ]
    },
    {
     "name": "stdout",
     "output_type": "stream",
     "text": [
      "Moviepy - Done !\n",
      "Moviepy - video ready /home/chenwei/Desktop/Github/T2Vmodels/datasets/cogvideos/20.mp4\n",
      "Moviepy - Building video /home/chenwei/Desktop/Github/T2Vmodels/datasets/cogvideos/21.mp4.\n",
      "Moviepy - Writing video /home/chenwei/Desktop/Github/T2Vmodels/datasets/cogvideos/21.mp4\n",
      "\n"
     ]
    },
    {
     "name": "stderr",
     "output_type": "stream",
     "text": [
      "                                                             \r"
     ]
    },
    {
     "name": "stdout",
     "output_type": "stream",
     "text": [
      "Moviepy - Done !\n",
      "Moviepy - video ready /home/chenwei/Desktop/Github/T2Vmodels/datasets/cogvideos/21.mp4\n",
      "Moviepy - Building video /home/chenwei/Desktop/Github/T2Vmodels/datasets/cogvideos/22.mp4.\n",
      "Moviepy - Writing video /home/chenwei/Desktop/Github/T2Vmodels/datasets/cogvideos/22.mp4\n",
      "\n"
     ]
    },
    {
     "name": "stderr",
     "output_type": "stream",
     "text": [
      "                                                   \r"
     ]
    },
    {
     "name": "stdout",
     "output_type": "stream",
     "text": [
      "Moviepy - Done !\n",
      "Moviepy - video ready /home/chenwei/Desktop/Github/T2Vmodels/datasets/cogvideos/22.mp4\n",
      "Moviepy - Building video /home/chenwei/Desktop/Github/T2Vmodels/datasets/cogvideos/23.mp4.\n",
      "Moviepy - Writing video /home/chenwei/Desktop/Github/T2Vmodels/datasets/cogvideos/23.mp4\n",
      "\n"
     ]
    },
    {
     "name": "stderr",
     "output_type": "stream",
     "text": [
      "                                                   \r"
     ]
    },
    {
     "name": "stdout",
     "output_type": "stream",
     "text": [
      "Moviepy - Done !\n",
      "Moviepy - video ready /home/chenwei/Desktop/Github/T2Vmodels/datasets/cogvideos/23.mp4\n",
      "Moviepy - Building video /home/chenwei/Desktop/Github/T2Vmodels/datasets/cogvideos/24.mp4.\n",
      "Moviepy - Writing video /home/chenwei/Desktop/Github/T2Vmodels/datasets/cogvideos/24.mp4\n",
      "\n"
     ]
    },
    {
     "name": "stderr",
     "output_type": "stream",
     "text": [
      "                                                   \r"
     ]
    },
    {
     "name": "stdout",
     "output_type": "stream",
     "text": [
      "Moviepy - Done !\n",
      "Moviepy - video ready /home/chenwei/Desktop/Github/T2Vmodels/datasets/cogvideos/24.mp4\n",
      "Moviepy - Building video /home/chenwei/Desktop/Github/T2Vmodels/datasets/cogvideos/25.mp4.\n",
      "Moviepy - Writing video /home/chenwei/Desktop/Github/T2Vmodels/datasets/cogvideos/25.mp4\n",
      "\n"
     ]
    },
    {
     "name": "stderr",
     "output_type": "stream",
     "text": [
      "                                                   \r"
     ]
    },
    {
     "name": "stdout",
     "output_type": "stream",
     "text": [
      "Moviepy - Done !\n",
      "Moviepy - video ready /home/chenwei/Desktop/Github/T2Vmodels/datasets/cogvideos/25.mp4\n",
      "Moviepy - Building video /home/chenwei/Desktop/Github/T2Vmodels/datasets/cogvideos/26.mp4.\n",
      "Moviepy - Writing video /home/chenwei/Desktop/Github/T2Vmodels/datasets/cogvideos/26.mp4\n",
      "\n"
     ]
    },
    {
     "name": "stderr",
     "output_type": "stream",
     "text": [
      "                                                             \r"
     ]
    },
    {
     "name": "stdout",
     "output_type": "stream",
     "text": [
      "Moviepy - Done !\n",
      "Moviepy - video ready /home/chenwei/Desktop/Github/T2Vmodels/datasets/cogvideos/26.mp4\n",
      "Moviepy - Building video /home/chenwei/Desktop/Github/T2Vmodels/datasets/cogvideos/27.mp4.\n",
      "Moviepy - Writing video /home/chenwei/Desktop/Github/T2Vmodels/datasets/cogvideos/27.mp4\n",
      "\n"
     ]
    },
    {
     "name": "stderr",
     "output_type": "stream",
     "text": [
      "                                                   \r"
     ]
    },
    {
     "name": "stdout",
     "output_type": "stream",
     "text": [
      "Moviepy - Done !\n",
      "Moviepy - video ready /home/chenwei/Desktop/Github/T2Vmodels/datasets/cogvideos/27.mp4\n",
      "Moviepy - Building video /home/chenwei/Desktop/Github/T2Vmodels/datasets/cogvideos/28.mp4.\n",
      "Moviepy - Writing video /home/chenwei/Desktop/Github/T2Vmodels/datasets/cogvideos/28.mp4\n",
      "\n"
     ]
    },
    {
     "name": "stderr",
     "output_type": "stream",
     "text": [
      "                                                   \r"
     ]
    },
    {
     "name": "stdout",
     "output_type": "stream",
     "text": [
      "Moviepy - Done !\n",
      "Moviepy - video ready /home/chenwei/Desktop/Github/T2Vmodels/datasets/cogvideos/28.mp4\n",
      "Moviepy - Building video /home/chenwei/Desktop/Github/T2Vmodels/datasets/cogvideos/29.mp4.\n",
      "Moviepy - Writing video /home/chenwei/Desktop/Github/T2Vmodels/datasets/cogvideos/29.mp4\n",
      "\n"
     ]
    },
    {
     "name": "stderr",
     "output_type": "stream",
     "text": [
      "                                                   \r"
     ]
    },
    {
     "name": "stdout",
     "output_type": "stream",
     "text": [
      "Moviepy - Done !\n",
      "Moviepy - video ready /home/chenwei/Desktop/Github/T2Vmodels/datasets/cogvideos/29.mp4\n",
      "Moviepy - Building video /home/chenwei/Desktop/Github/T2Vmodels/datasets/cogvideos/30.mp4.\n",
      "Moviepy - Writing video /home/chenwei/Desktop/Github/T2Vmodels/datasets/cogvideos/30.mp4\n",
      "\n"
     ]
    },
    {
     "name": "stderr",
     "output_type": "stream",
     "text": [
      "                                                   \r"
     ]
    },
    {
     "name": "stdout",
     "output_type": "stream",
     "text": [
      "Moviepy - Done !\n",
      "Moviepy - video ready /home/chenwei/Desktop/Github/T2Vmodels/datasets/cogvideos/30.mp4\n",
      "Moviepy - Building video /home/chenwei/Desktop/Github/T2Vmodels/datasets/cogvideos/31.mp4.\n",
      "Moviepy - Writing video /home/chenwei/Desktop/Github/T2Vmodels/datasets/cogvideos/31.mp4\n",
      "\n"
     ]
    },
    {
     "name": "stderr",
     "output_type": "stream",
     "text": [
      "                                                   \r"
     ]
    },
    {
     "name": "stdout",
     "output_type": "stream",
     "text": [
      "Moviepy - Done !\n",
      "Moviepy - video ready /home/chenwei/Desktop/Github/T2Vmodels/datasets/cogvideos/31.mp4\n",
      "Moviepy - Building video /home/chenwei/Desktop/Github/T2Vmodels/datasets/cogvideos/32.mp4.\n",
      "Moviepy - Writing video /home/chenwei/Desktop/Github/T2Vmodels/datasets/cogvideos/32.mp4\n",
      "\n"
     ]
    },
    {
     "name": "stderr",
     "output_type": "stream",
     "text": [
      "                                                             \r"
     ]
    },
    {
     "name": "stdout",
     "output_type": "stream",
     "text": [
      "Moviepy - Done !\n",
      "Moviepy - video ready /home/chenwei/Desktop/Github/T2Vmodels/datasets/cogvideos/32.mp4\n",
      "Moviepy - Building video /home/chenwei/Desktop/Github/T2Vmodels/datasets/cogvideos/33.mp4.\n",
      "Moviepy - Writing video /home/chenwei/Desktop/Github/T2Vmodels/datasets/cogvideos/33.mp4\n",
      "\n"
     ]
    },
    {
     "name": "stderr",
     "output_type": "stream",
     "text": [
      "                                                   \r"
     ]
    },
    {
     "name": "stdout",
     "output_type": "stream",
     "text": [
      "Moviepy - Done !\n",
      "Moviepy - video ready /home/chenwei/Desktop/Github/T2Vmodels/datasets/cogvideos/33.mp4\n",
      "Moviepy - Building video /home/chenwei/Desktop/Github/T2Vmodels/datasets/cogvideos/34.mp4.\n",
      "Moviepy - Writing video /home/chenwei/Desktop/Github/T2Vmodels/datasets/cogvideos/34.mp4\n",
      "\n"
     ]
    },
    {
     "name": "stderr",
     "output_type": "stream",
     "text": [
      "                                                             \r"
     ]
    },
    {
     "name": "stdout",
     "output_type": "stream",
     "text": [
      "Moviepy - Done !\n",
      "Moviepy - video ready /home/chenwei/Desktop/Github/T2Vmodels/datasets/cogvideos/34.mp4\n",
      "Moviepy - Building video /home/chenwei/Desktop/Github/T2Vmodels/datasets/cogvideos/35.mp4.\n",
      "Moviepy - Writing video /home/chenwei/Desktop/Github/T2Vmodels/datasets/cogvideos/35.mp4\n",
      "\n"
     ]
    },
    {
     "name": "stderr",
     "output_type": "stream",
     "text": [
      "                                                   \r"
     ]
    },
    {
     "name": "stdout",
     "output_type": "stream",
     "text": [
      "Moviepy - Done !\n",
      "Moviepy - video ready /home/chenwei/Desktop/Github/T2Vmodels/datasets/cogvideos/35.mp4\n",
      "Moviepy - Building video /home/chenwei/Desktop/Github/T2Vmodels/datasets/cogvideos/36.mp4.\n",
      "Moviepy - Writing video /home/chenwei/Desktop/Github/T2Vmodels/datasets/cogvideos/36.mp4\n",
      "\n"
     ]
    },
    {
     "name": "stderr",
     "output_type": "stream",
     "text": [
      "                                                   \r"
     ]
    },
    {
     "name": "stdout",
     "output_type": "stream",
     "text": [
      "Moviepy - Done !\n",
      "Moviepy - video ready /home/chenwei/Desktop/Github/T2Vmodels/datasets/cogvideos/36.mp4\n",
      "Moviepy - Building video /home/chenwei/Desktop/Github/T2Vmodels/datasets/cogvideos/37.mp4.\n",
      "Moviepy - Writing video /home/chenwei/Desktop/Github/T2Vmodels/datasets/cogvideos/37.mp4\n",
      "\n"
     ]
    },
    {
     "name": "stderr",
     "output_type": "stream",
     "text": [
      "                                                   \r"
     ]
    },
    {
     "name": "stdout",
     "output_type": "stream",
     "text": [
      "Moviepy - Done !\n",
      "Moviepy - video ready /home/chenwei/Desktop/Github/T2Vmodels/datasets/cogvideos/37.mp4\n",
      "Moviepy - Building video /home/chenwei/Desktop/Github/T2Vmodels/datasets/cogvideos/38.mp4.\n",
      "Moviepy - Writing video /home/chenwei/Desktop/Github/T2Vmodels/datasets/cogvideos/38.mp4\n",
      "\n"
     ]
    },
    {
     "name": "stderr",
     "output_type": "stream",
     "text": [
      "                                                   \r"
     ]
    },
    {
     "name": "stdout",
     "output_type": "stream",
     "text": [
      "Moviepy - Done !\n",
      "Moviepy - video ready /home/chenwei/Desktop/Github/T2Vmodels/datasets/cogvideos/38.mp4\n",
      "Moviepy - Building video /home/chenwei/Desktop/Github/T2Vmodels/datasets/cogvideos/39.mp4.\n",
      "Moviepy - Writing video /home/chenwei/Desktop/Github/T2Vmodels/datasets/cogvideos/39.mp4\n",
      "\n"
     ]
    },
    {
     "name": "stderr",
     "output_type": "stream",
     "text": [
      "                                                   \r"
     ]
    },
    {
     "name": "stdout",
     "output_type": "stream",
     "text": [
      "Moviepy - Done !\n",
      "Moviepy - video ready /home/chenwei/Desktop/Github/T2Vmodels/datasets/cogvideos/39.mp4\n",
      "Moviepy - Building video /home/chenwei/Desktop/Github/T2Vmodels/datasets/cogvideos/40.mp4.\n",
      "Moviepy - Writing video /home/chenwei/Desktop/Github/T2Vmodels/datasets/cogvideos/40.mp4\n",
      "\n"
     ]
    },
    {
     "name": "stderr",
     "output_type": "stream",
     "text": [
      "                                                   \r"
     ]
    },
    {
     "name": "stdout",
     "output_type": "stream",
     "text": [
      "Moviepy - Done !\n",
      "Moviepy - video ready /home/chenwei/Desktop/Github/T2Vmodels/datasets/cogvideos/40.mp4\n",
      "Moviepy - Building video /home/chenwei/Desktop/Github/T2Vmodels/datasets/cogvideos/41.mp4.\n",
      "Moviepy - Writing video /home/chenwei/Desktop/Github/T2Vmodels/datasets/cogvideos/41.mp4\n",
      "\n"
     ]
    },
    {
     "name": "stderr",
     "output_type": "stream",
     "text": [
      "                                                   \r"
     ]
    },
    {
     "name": "stdout",
     "output_type": "stream",
     "text": [
      "Moviepy - Done !\n",
      "Moviepy - video ready /home/chenwei/Desktop/Github/T2Vmodels/datasets/cogvideos/41.mp4\n",
      "Moviepy - Building video /home/chenwei/Desktop/Github/T2Vmodels/datasets/cogvideos/42.mp4.\n",
      "Moviepy - Writing video /home/chenwei/Desktop/Github/T2Vmodels/datasets/cogvideos/42.mp4\n",
      "\n"
     ]
    },
    {
     "name": "stderr",
     "output_type": "stream",
     "text": [
      "                                                   \r"
     ]
    },
    {
     "name": "stdout",
     "output_type": "stream",
     "text": [
      "Moviepy - Done !\n",
      "Moviepy - video ready /home/chenwei/Desktop/Github/T2Vmodels/datasets/cogvideos/42.mp4\n",
      "Moviepy - Building video /home/chenwei/Desktop/Github/T2Vmodels/datasets/cogvideos/43.mp4.\n",
      "Moviepy - Writing video /home/chenwei/Desktop/Github/T2Vmodels/datasets/cogvideos/43.mp4\n",
      "\n"
     ]
    },
    {
     "name": "stderr",
     "output_type": "stream",
     "text": [
      "                                                   \r"
     ]
    },
    {
     "name": "stdout",
     "output_type": "stream",
     "text": [
      "Moviepy - Done !\n",
      "Moviepy - video ready /home/chenwei/Desktop/Github/T2Vmodels/datasets/cogvideos/43.mp4\n",
      "Moviepy - Building video /home/chenwei/Desktop/Github/T2Vmodels/datasets/cogvideos/44.mp4.\n",
      "Moviepy - Writing video /home/chenwei/Desktop/Github/T2Vmodels/datasets/cogvideos/44.mp4\n",
      "\n"
     ]
    },
    {
     "name": "stderr",
     "output_type": "stream",
     "text": [
      "                                                   \r"
     ]
    },
    {
     "name": "stdout",
     "output_type": "stream",
     "text": [
      "Moviepy - Done !\n",
      "Moviepy - video ready /home/chenwei/Desktop/Github/T2Vmodels/datasets/cogvideos/44.mp4\n",
      "Moviepy - Building video /home/chenwei/Desktop/Github/T2Vmodels/datasets/cogvideos/45.mp4.\n",
      "Moviepy - Writing video /home/chenwei/Desktop/Github/T2Vmodels/datasets/cogvideos/45.mp4\n",
      "\n"
     ]
    },
    {
     "name": "stderr",
     "output_type": "stream",
     "text": [
      "                                                   \r"
     ]
    },
    {
     "name": "stdout",
     "output_type": "stream",
     "text": [
      "Moviepy - Done !\n",
      "Moviepy - video ready /home/chenwei/Desktop/Github/T2Vmodels/datasets/cogvideos/45.mp4\n",
      "Moviepy - Building video /home/chenwei/Desktop/Github/T2Vmodels/datasets/cogvideos/46.mp4.\n",
      "Moviepy - Writing video /home/chenwei/Desktop/Github/T2Vmodels/datasets/cogvideos/46.mp4\n",
      "\n"
     ]
    },
    {
     "name": "stderr",
     "output_type": "stream",
     "text": [
      "                                                   \r"
     ]
    },
    {
     "name": "stdout",
     "output_type": "stream",
     "text": [
      "Moviepy - Done !\n",
      "Moviepy - video ready /home/chenwei/Desktop/Github/T2Vmodels/datasets/cogvideos/46.mp4\n",
      "Moviepy - Building video /home/chenwei/Desktop/Github/T2Vmodels/datasets/cogvideos/47.mp4.\n",
      "Moviepy - Writing video /home/chenwei/Desktop/Github/T2Vmodels/datasets/cogvideos/47.mp4\n",
      "\n"
     ]
    },
    {
     "name": "stderr",
     "output_type": "stream",
     "text": [
      "                                                   \r"
     ]
    },
    {
     "name": "stdout",
     "output_type": "stream",
     "text": [
      "Moviepy - Done !\n",
      "Moviepy - video ready /home/chenwei/Desktop/Github/T2Vmodels/datasets/cogvideos/47.mp4\n",
      "Moviepy - Building video /home/chenwei/Desktop/Github/T2Vmodels/datasets/cogvideos/48.mp4.\n",
      "Moviepy - Writing video /home/chenwei/Desktop/Github/T2Vmodels/datasets/cogvideos/48.mp4\n",
      "\n"
     ]
    },
    {
     "name": "stderr",
     "output_type": "stream",
     "text": [
      "                                                   \r"
     ]
    },
    {
     "name": "stdout",
     "output_type": "stream",
     "text": [
      "Moviepy - Done !\n",
      "Moviepy - video ready /home/chenwei/Desktop/Github/T2Vmodels/datasets/cogvideos/48.mp4\n",
      "Moviepy - Building video /home/chenwei/Desktop/Github/T2Vmodels/datasets/cogvideos/49.mp4.\n",
      "Moviepy - Writing video /home/chenwei/Desktop/Github/T2Vmodels/datasets/cogvideos/49.mp4\n",
      "\n"
     ]
    },
    {
     "name": "stderr",
     "output_type": "stream",
     "text": [
      "                                                   \r"
     ]
    },
    {
     "name": "stdout",
     "output_type": "stream",
     "text": [
      "Moviepy - Done !\n",
      "Moviepy - video ready /home/chenwei/Desktop/Github/T2Vmodels/datasets/cogvideos/49.mp4\n",
      "Moviepy - Building video /home/chenwei/Desktop/Github/T2Vmodels/datasets/cogvideos/50.mp4.\n",
      "Moviepy - Writing video /home/chenwei/Desktop/Github/T2Vmodels/datasets/cogvideos/50.mp4\n",
      "\n"
     ]
    },
    {
     "name": "stderr",
     "output_type": "stream",
     "text": [
      "                                                   \r"
     ]
    },
    {
     "name": "stdout",
     "output_type": "stream",
     "text": [
      "Moviepy - Done !\n",
      "Moviepy - video ready /home/chenwei/Desktop/Github/T2Vmodels/datasets/cogvideos/50.mp4\n",
      "Moviepy - Building video /home/chenwei/Desktop/Github/T2Vmodels/datasets/cogvideos/51.mp4.\n",
      "Moviepy - Writing video /home/chenwei/Desktop/Github/T2Vmodels/datasets/cogvideos/51.mp4\n",
      "\n"
     ]
    },
    {
     "name": "stderr",
     "output_type": "stream",
     "text": [
      "                                                   \r"
     ]
    },
    {
     "name": "stdout",
     "output_type": "stream",
     "text": [
      "Moviepy - Done !\n",
      "Moviepy - video ready /home/chenwei/Desktop/Github/T2Vmodels/datasets/cogvideos/51.mp4\n",
      "Moviepy - Building video /home/chenwei/Desktop/Github/T2Vmodels/datasets/cogvideos/52.mp4.\n",
      "Moviepy - Writing video /home/chenwei/Desktop/Github/T2Vmodels/datasets/cogvideos/52.mp4\n",
      "\n"
     ]
    },
    {
     "name": "stderr",
     "output_type": "stream",
     "text": [
      "                                                   \r"
     ]
    },
    {
     "name": "stdout",
     "output_type": "stream",
     "text": [
      "Moviepy - Done !\n",
      "Moviepy - video ready /home/chenwei/Desktop/Github/T2Vmodels/datasets/cogvideos/52.mp4\n",
      "Moviepy - Building video /home/chenwei/Desktop/Github/T2Vmodels/datasets/cogvideos/53.mp4.\n",
      "Moviepy - Writing video /home/chenwei/Desktop/Github/T2Vmodels/datasets/cogvideos/53.mp4\n",
      "\n"
     ]
    },
    {
     "name": "stderr",
     "output_type": "stream",
     "text": [
      "                                                   \r"
     ]
    },
    {
     "name": "stdout",
     "output_type": "stream",
     "text": [
      "Moviepy - Done !\n",
      "Moviepy - video ready /home/chenwei/Desktop/Github/T2Vmodels/datasets/cogvideos/53.mp4\n",
      "Moviepy - Building video /home/chenwei/Desktop/Github/T2Vmodels/datasets/cogvideos/54.mp4.\n",
      "Moviepy - Writing video /home/chenwei/Desktop/Github/T2Vmodels/datasets/cogvideos/54.mp4\n",
      "\n"
     ]
    },
    {
     "name": "stderr",
     "output_type": "stream",
     "text": [
      "                                                   \r"
     ]
    },
    {
     "name": "stdout",
     "output_type": "stream",
     "text": [
      "Moviepy - Done !\n",
      "Moviepy - video ready /home/chenwei/Desktop/Github/T2Vmodels/datasets/cogvideos/54.mp4\n",
      "Moviepy - Building video /home/chenwei/Desktop/Github/T2Vmodels/datasets/cogvideos/55.mp4.\n",
      "Moviepy - Writing video /home/chenwei/Desktop/Github/T2Vmodels/datasets/cogvideos/55.mp4\n",
      "\n"
     ]
    },
    {
     "name": "stderr",
     "output_type": "stream",
     "text": [
      "                                                   \r"
     ]
    },
    {
     "name": "stdout",
     "output_type": "stream",
     "text": [
      "Moviepy - Done !\n",
      "Moviepy - video ready /home/chenwei/Desktop/Github/T2Vmodels/datasets/cogvideos/55.mp4\n",
      "Moviepy - Building video /home/chenwei/Desktop/Github/T2Vmodels/datasets/cogvideos/56.mp4.\n",
      "Moviepy - Writing video /home/chenwei/Desktop/Github/T2Vmodels/datasets/cogvideos/56.mp4\n",
      "\n"
     ]
    },
    {
     "name": "stderr",
     "output_type": "stream",
     "text": [
      "                                                   \r"
     ]
    },
    {
     "name": "stdout",
     "output_type": "stream",
     "text": [
      "Moviepy - Done !\n",
      "Moviepy - video ready /home/chenwei/Desktop/Github/T2Vmodels/datasets/cogvideos/56.mp4\n",
      "Moviepy - Building video /home/chenwei/Desktop/Github/T2Vmodels/datasets/cogvideos/57.mp4.\n",
      "Moviepy - Writing video /home/chenwei/Desktop/Github/T2Vmodels/datasets/cogvideos/57.mp4\n",
      "\n"
     ]
    },
    {
     "name": "stderr",
     "output_type": "stream",
     "text": [
      "                                                   \r"
     ]
    },
    {
     "name": "stdout",
     "output_type": "stream",
     "text": [
      "Moviepy - Done !\n",
      "Moviepy - video ready /home/chenwei/Desktop/Github/T2Vmodels/datasets/cogvideos/57.mp4\n",
      "Moviepy - Building video /home/chenwei/Desktop/Github/T2Vmodels/datasets/cogvideos/58.mp4.\n",
      "Moviepy - Writing video /home/chenwei/Desktop/Github/T2Vmodels/datasets/cogvideos/58.mp4\n",
      "\n"
     ]
    },
    {
     "name": "stderr",
     "output_type": "stream",
     "text": [
      "                                                             \r"
     ]
    },
    {
     "name": "stdout",
     "output_type": "stream",
     "text": [
      "Moviepy - Done !\n",
      "Moviepy - video ready /home/chenwei/Desktop/Github/T2Vmodels/datasets/cogvideos/58.mp4\n",
      "Moviepy - Building video /home/chenwei/Desktop/Github/T2Vmodels/datasets/cogvideos/59.mp4.\n",
      "Moviepy - Writing video /home/chenwei/Desktop/Github/T2Vmodels/datasets/cogvideos/59.mp4\n",
      "\n"
     ]
    },
    {
     "name": "stderr",
     "output_type": "stream",
     "text": [
      "                                                   \r"
     ]
    },
    {
     "name": "stdout",
     "output_type": "stream",
     "text": [
      "Moviepy - Done !\n",
      "Moviepy - video ready /home/chenwei/Desktop/Github/T2Vmodels/datasets/cogvideos/59.mp4\n",
      "Moviepy - Building video /home/chenwei/Desktop/Github/T2Vmodels/datasets/cogvideos/60.mp4.\n",
      "Moviepy - Writing video /home/chenwei/Desktop/Github/T2Vmodels/datasets/cogvideos/60.mp4\n",
      "\n"
     ]
    },
    {
     "name": "stderr",
     "output_type": "stream",
     "text": [
      "                                                   \r"
     ]
    },
    {
     "name": "stdout",
     "output_type": "stream",
     "text": [
      "Moviepy - Done !\n",
      "Moviepy - video ready /home/chenwei/Desktop/Github/T2Vmodels/datasets/cogvideos/60.mp4\n",
      "Moviepy - Building video /home/chenwei/Desktop/Github/T2Vmodels/datasets/cogvideos/61.mp4.\n",
      "Moviepy - Writing video /home/chenwei/Desktop/Github/T2Vmodels/datasets/cogvideos/61.mp4\n",
      "\n"
     ]
    },
    {
     "name": "stderr",
     "output_type": "stream",
     "text": [
      "                                                   \r"
     ]
    },
    {
     "name": "stdout",
     "output_type": "stream",
     "text": [
      "Moviepy - Done !\n",
      "Moviepy - video ready /home/chenwei/Desktop/Github/T2Vmodels/datasets/cogvideos/61.mp4\n",
      "Moviepy - Building video /home/chenwei/Desktop/Github/T2Vmodels/datasets/cogvideos/62.mp4.\n",
      "Moviepy - Writing video /home/chenwei/Desktop/Github/T2Vmodels/datasets/cogvideos/62.mp4\n",
      "\n"
     ]
    },
    {
     "name": "stderr",
     "output_type": "stream",
     "text": [
      "                                                   \r"
     ]
    },
    {
     "name": "stdout",
     "output_type": "stream",
     "text": [
      "Moviepy - Done !\n",
      "Moviepy - video ready /home/chenwei/Desktop/Github/T2Vmodels/datasets/cogvideos/62.mp4\n",
      "Moviepy - Building video /home/chenwei/Desktop/Github/T2Vmodels/datasets/cogvideos/63.mp4.\n",
      "Moviepy - Writing video /home/chenwei/Desktop/Github/T2Vmodels/datasets/cogvideos/63.mp4\n",
      "\n"
     ]
    },
    {
     "name": "stderr",
     "output_type": "stream",
     "text": [
      "                                                   \r"
     ]
    },
    {
     "name": "stdout",
     "output_type": "stream",
     "text": [
      "Moviepy - Done !\n",
      "Moviepy - video ready /home/chenwei/Desktop/Github/T2Vmodels/datasets/cogvideos/63.mp4\n",
      "Moviepy - Building video /home/chenwei/Desktop/Github/T2Vmodels/datasets/cogvideos/64.mp4.\n",
      "Moviepy - Writing video /home/chenwei/Desktop/Github/T2Vmodels/datasets/cogvideos/64.mp4\n",
      "\n"
     ]
    },
    {
     "name": "stderr",
     "output_type": "stream",
     "text": [
      "                                                   \r"
     ]
    },
    {
     "name": "stdout",
     "output_type": "stream",
     "text": [
      "Moviepy - Done !\n",
      "Moviepy - video ready /home/chenwei/Desktop/Github/T2Vmodels/datasets/cogvideos/64.mp4\n",
      "Moviepy - Building video /home/chenwei/Desktop/Github/T2Vmodels/datasets/cogvideos/65.mp4.\n",
      "Moviepy - Writing video /home/chenwei/Desktop/Github/T2Vmodels/datasets/cogvideos/65.mp4\n",
      "\n"
     ]
    },
    {
     "name": "stderr",
     "output_type": "stream",
     "text": [
      "                                                   \r"
     ]
    },
    {
     "name": "stdout",
     "output_type": "stream",
     "text": [
      "Moviepy - Done !\n",
      "Moviepy - video ready /home/chenwei/Desktop/Github/T2Vmodels/datasets/cogvideos/65.mp4\n",
      "Moviepy - Building video /home/chenwei/Desktop/Github/T2Vmodels/datasets/cogvideos/66.mp4.\n",
      "Moviepy - Writing video /home/chenwei/Desktop/Github/T2Vmodels/datasets/cogvideos/66.mp4\n",
      "\n"
     ]
    },
    {
     "name": "stderr",
     "output_type": "stream",
     "text": [
      "                                                   \r"
     ]
    },
    {
     "name": "stdout",
     "output_type": "stream",
     "text": [
      "Moviepy - Done !\n",
      "Moviepy - video ready /home/chenwei/Desktop/Github/T2Vmodels/datasets/cogvideos/66.mp4\n",
      "Moviepy - Building video /home/chenwei/Desktop/Github/T2Vmodels/datasets/cogvideos/67.mp4.\n",
      "Moviepy - Writing video /home/chenwei/Desktop/Github/T2Vmodels/datasets/cogvideos/67.mp4\n",
      "\n"
     ]
    },
    {
     "name": "stderr",
     "output_type": "stream",
     "text": [
      "                                                   \r"
     ]
    },
    {
     "name": "stdout",
     "output_type": "stream",
     "text": [
      "Moviepy - Done !\n",
      "Moviepy - video ready /home/chenwei/Desktop/Github/T2Vmodels/datasets/cogvideos/67.mp4\n",
      "Moviepy - Building video /home/chenwei/Desktop/Github/T2Vmodels/datasets/cogvideos/68.mp4.\n",
      "Moviepy - Writing video /home/chenwei/Desktop/Github/T2Vmodels/datasets/cogvideos/68.mp4\n",
      "\n"
     ]
    },
    {
     "name": "stderr",
     "output_type": "stream",
     "text": [
      "                                                   \r"
     ]
    },
    {
     "name": "stdout",
     "output_type": "stream",
     "text": [
      "Moviepy - Done !\n",
      "Moviepy - video ready /home/chenwei/Desktop/Github/T2Vmodels/datasets/cogvideos/68.mp4\n",
      "Moviepy - Building video /home/chenwei/Desktop/Github/T2Vmodels/datasets/cogvideos/69.mp4.\n",
      "Moviepy - Writing video /home/chenwei/Desktop/Github/T2Vmodels/datasets/cogvideos/69.mp4\n",
      "\n"
     ]
    },
    {
     "name": "stderr",
     "output_type": "stream",
     "text": [
      "                                                   \r"
     ]
    },
    {
     "name": "stdout",
     "output_type": "stream",
     "text": [
      "Moviepy - Done !\n",
      "Moviepy - video ready /home/chenwei/Desktop/Github/T2Vmodels/datasets/cogvideos/69.mp4\n",
      "Moviepy - Building video /home/chenwei/Desktop/Github/T2Vmodels/datasets/cogvideos/70.mp4.\n",
      "Moviepy - Writing video /home/chenwei/Desktop/Github/T2Vmodels/datasets/cogvideos/70.mp4\n",
      "\n"
     ]
    },
    {
     "name": "stderr",
     "output_type": "stream",
     "text": [
      "                                                   \r"
     ]
    },
    {
     "name": "stdout",
     "output_type": "stream",
     "text": [
      "Moviepy - Done !\n",
      "Moviepy - video ready /home/chenwei/Desktop/Github/T2Vmodels/datasets/cogvideos/70.mp4\n",
      "Moviepy - Building video /home/chenwei/Desktop/Github/T2Vmodels/datasets/cogvideos/71.mp4.\n",
      "Moviepy - Writing video /home/chenwei/Desktop/Github/T2Vmodels/datasets/cogvideos/71.mp4\n",
      "\n"
     ]
    },
    {
     "name": "stderr",
     "output_type": "stream",
     "text": [
      "                                                   \r"
     ]
    },
    {
     "name": "stdout",
     "output_type": "stream",
     "text": [
      "Moviepy - Done !\n",
      "Moviepy - video ready /home/chenwei/Desktop/Github/T2Vmodels/datasets/cogvideos/71.mp4\n",
      "Moviepy - Building video /home/chenwei/Desktop/Github/T2Vmodels/datasets/cogvideos/72.mp4.\n",
      "Moviepy - Writing video /home/chenwei/Desktop/Github/T2Vmodels/datasets/cogvideos/72.mp4\n",
      "\n"
     ]
    },
    {
     "name": "stderr",
     "output_type": "stream",
     "text": [
      "                                                   \r"
     ]
    },
    {
     "name": "stdout",
     "output_type": "stream",
     "text": [
      "Moviepy - Done !\n",
      "Moviepy - video ready /home/chenwei/Desktop/Github/T2Vmodels/datasets/cogvideos/72.mp4\n",
      "Moviepy - Building video /home/chenwei/Desktop/Github/T2Vmodels/datasets/cogvideos/73.mp4.\n",
      "Moviepy - Writing video /home/chenwei/Desktop/Github/T2Vmodels/datasets/cogvideos/73.mp4\n",
      "\n"
     ]
    },
    {
     "name": "stderr",
     "output_type": "stream",
     "text": [
      "                                                   \r"
     ]
    },
    {
     "name": "stdout",
     "output_type": "stream",
     "text": [
      "Moviepy - Done !\n",
      "Moviepy - video ready /home/chenwei/Desktop/Github/T2Vmodels/datasets/cogvideos/73.mp4\n",
      "Moviepy - Building video /home/chenwei/Desktop/Github/T2Vmodels/datasets/cogvideos/74.mp4.\n",
      "Moviepy - Writing video /home/chenwei/Desktop/Github/T2Vmodels/datasets/cogvideos/74.mp4\n",
      "\n"
     ]
    },
    {
     "name": "stderr",
     "output_type": "stream",
     "text": [
      "                                                   \r"
     ]
    },
    {
     "name": "stdout",
     "output_type": "stream",
     "text": [
      "Moviepy - Done !\n",
      "Moviepy - video ready /home/chenwei/Desktop/Github/T2Vmodels/datasets/cogvideos/74.mp4\n",
      "Moviepy - Building video /home/chenwei/Desktop/Github/T2Vmodels/datasets/cogvideos/75.mp4.\n",
      "Moviepy - Writing video /home/chenwei/Desktop/Github/T2Vmodels/datasets/cogvideos/75.mp4\n",
      "\n"
     ]
    },
    {
     "name": "stderr",
     "output_type": "stream",
     "text": [
      "                                                   \r"
     ]
    },
    {
     "name": "stdout",
     "output_type": "stream",
     "text": [
      "Moviepy - Done !\n",
      "Moviepy - video ready /home/chenwei/Desktop/Github/T2Vmodels/datasets/cogvideos/75.mp4\n",
      "Moviepy - Building video /home/chenwei/Desktop/Github/T2Vmodels/datasets/cogvideos/76.mp4.\n",
      "Moviepy - Writing video /home/chenwei/Desktop/Github/T2Vmodels/datasets/cogvideos/76.mp4\n",
      "\n"
     ]
    },
    {
     "name": "stderr",
     "output_type": "stream",
     "text": [
      "                                                             \r"
     ]
    },
    {
     "name": "stdout",
     "output_type": "stream",
     "text": [
      "Moviepy - Done !\n",
      "Moviepy - video ready /home/chenwei/Desktop/Github/T2Vmodels/datasets/cogvideos/76.mp4\n",
      "Moviepy - Building video /home/chenwei/Desktop/Github/T2Vmodels/datasets/cogvideos/77.mp4.\n",
      "Moviepy - Writing video /home/chenwei/Desktop/Github/T2Vmodels/datasets/cogvideos/77.mp4\n",
      "\n"
     ]
    },
    {
     "name": "stderr",
     "output_type": "stream",
     "text": [
      "                                                   \r"
     ]
    },
    {
     "name": "stdout",
     "output_type": "stream",
     "text": [
      "Moviepy - Done !\n",
      "Moviepy - video ready /home/chenwei/Desktop/Github/T2Vmodels/datasets/cogvideos/77.mp4\n",
      "Moviepy - Building video /home/chenwei/Desktop/Github/T2Vmodels/datasets/cogvideos/78.mp4.\n",
      "Moviepy - Writing video /home/chenwei/Desktop/Github/T2Vmodels/datasets/cogvideos/78.mp4\n",
      "\n"
     ]
    },
    {
     "name": "stderr",
     "output_type": "stream",
     "text": [
      "                                                   \r"
     ]
    },
    {
     "name": "stdout",
     "output_type": "stream",
     "text": [
      "Moviepy - Done !\n",
      "Moviepy - video ready /home/chenwei/Desktop/Github/T2Vmodels/datasets/cogvideos/78.mp4\n",
      "Moviepy - Building video /home/chenwei/Desktop/Github/T2Vmodels/datasets/cogvideos/79.mp4.\n",
      "Moviepy - Writing video /home/chenwei/Desktop/Github/T2Vmodels/datasets/cogvideos/79.mp4\n",
      "\n"
     ]
    },
    {
     "name": "stderr",
     "output_type": "stream",
     "text": [
      "                                                   \r"
     ]
    },
    {
     "name": "stdout",
     "output_type": "stream",
     "text": [
      "Moviepy - Done !\n",
      "Moviepy - video ready /home/chenwei/Desktop/Github/T2Vmodels/datasets/cogvideos/79.mp4\n",
      "Moviepy - Building video /home/chenwei/Desktop/Github/T2Vmodels/datasets/cogvideos/80.mp4.\n",
      "Moviepy - Writing video /home/chenwei/Desktop/Github/T2Vmodels/datasets/cogvideos/80.mp4\n",
      "\n"
     ]
    },
    {
     "name": "stderr",
     "output_type": "stream",
     "text": [
      "                                                   \r"
     ]
    },
    {
     "name": "stdout",
     "output_type": "stream",
     "text": [
      "Moviepy - Done !\n",
      "Moviepy - video ready /home/chenwei/Desktop/Github/T2Vmodels/datasets/cogvideos/80.mp4\n",
      "Moviepy - Building video /home/chenwei/Desktop/Github/T2Vmodels/datasets/cogvideos/81.mp4.\n",
      "Moviepy - Writing video /home/chenwei/Desktop/Github/T2Vmodels/datasets/cogvideos/81.mp4\n",
      "\n"
     ]
    },
    {
     "name": "stderr",
     "output_type": "stream",
     "text": [
      "                                                             \r"
     ]
    },
    {
     "name": "stdout",
     "output_type": "stream",
     "text": [
      "Moviepy - Done !\n",
      "Moviepy - video ready /home/chenwei/Desktop/Github/T2Vmodels/datasets/cogvideos/81.mp4\n",
      "Moviepy - Building video /home/chenwei/Desktop/Github/T2Vmodels/datasets/cogvideos/82.mp4.\n",
      "Moviepy - Writing video /home/chenwei/Desktop/Github/T2Vmodels/datasets/cogvideos/82.mp4\n",
      "\n"
     ]
    },
    {
     "name": "stderr",
     "output_type": "stream",
     "text": [
      "                                                   \r"
     ]
    },
    {
     "name": "stdout",
     "output_type": "stream",
     "text": [
      "Moviepy - Done !\n",
      "Moviepy - video ready /home/chenwei/Desktop/Github/T2Vmodels/datasets/cogvideos/82.mp4\n",
      "Moviepy - Building video /home/chenwei/Desktop/Github/T2Vmodels/datasets/cogvideos/83.mp4.\n",
      "Moviepy - Writing video /home/chenwei/Desktop/Github/T2Vmodels/datasets/cogvideos/83.mp4\n",
      "\n"
     ]
    },
    {
     "name": "stderr",
     "output_type": "stream",
     "text": [
      "                                                   \r"
     ]
    },
    {
     "name": "stdout",
     "output_type": "stream",
     "text": [
      "Moviepy - Done !\n",
      "Moviepy - video ready /home/chenwei/Desktop/Github/T2Vmodels/datasets/cogvideos/83.mp4\n",
      "Moviepy - Building video /home/chenwei/Desktop/Github/T2Vmodels/datasets/cogvideos/84.mp4.\n",
      "Moviepy - Writing video /home/chenwei/Desktop/Github/T2Vmodels/datasets/cogvideos/84.mp4\n",
      "\n"
     ]
    },
    {
     "name": "stderr",
     "output_type": "stream",
     "text": [
      "                                                   \r"
     ]
    },
    {
     "name": "stdout",
     "output_type": "stream",
     "text": [
      "Moviepy - Done !\n",
      "Moviepy - video ready /home/chenwei/Desktop/Github/T2Vmodels/datasets/cogvideos/84.mp4\n",
      "Moviepy - Building video /home/chenwei/Desktop/Github/T2Vmodels/datasets/cogvideos/85.mp4.\n",
      "Moviepy - Writing video /home/chenwei/Desktop/Github/T2Vmodels/datasets/cogvideos/85.mp4\n",
      "\n"
     ]
    },
    {
     "name": "stderr",
     "output_type": "stream",
     "text": [
      "                                                   \r"
     ]
    },
    {
     "name": "stdout",
     "output_type": "stream",
     "text": [
      "Moviepy - Done !\n",
      "Moviepy - video ready /home/chenwei/Desktop/Github/T2Vmodels/datasets/cogvideos/85.mp4\n",
      "Moviepy - Building video /home/chenwei/Desktop/Github/T2Vmodels/datasets/cogvideos/86.mp4.\n",
      "Moviepy - Writing video /home/chenwei/Desktop/Github/T2Vmodels/datasets/cogvideos/86.mp4\n",
      "\n"
     ]
    },
    {
     "name": "stderr",
     "output_type": "stream",
     "text": [
      "                                                   \r"
     ]
    },
    {
     "name": "stdout",
     "output_type": "stream",
     "text": [
      "Moviepy - Done !\n",
      "Moviepy - video ready /home/chenwei/Desktop/Github/T2Vmodels/datasets/cogvideos/86.mp4\n",
      "Moviepy - Building video /home/chenwei/Desktop/Github/T2Vmodels/datasets/cogvideos/87.mp4.\n",
      "Moviepy - Writing video /home/chenwei/Desktop/Github/T2Vmodels/datasets/cogvideos/87.mp4\n",
      "\n"
     ]
    },
    {
     "name": "stderr",
     "output_type": "stream",
     "text": [
      "                                                   \r"
     ]
    },
    {
     "name": "stdout",
     "output_type": "stream",
     "text": [
      "Moviepy - Done !\n",
      "Moviepy - video ready /home/chenwei/Desktop/Github/T2Vmodels/datasets/cogvideos/87.mp4\n",
      "Moviepy - Building video /home/chenwei/Desktop/Github/T2Vmodels/datasets/cogvideos/88.mp4.\n",
      "Moviepy - Writing video /home/chenwei/Desktop/Github/T2Vmodels/datasets/cogvideos/88.mp4\n",
      "\n"
     ]
    },
    {
     "name": "stderr",
     "output_type": "stream",
     "text": [
      "                                                   \r"
     ]
    },
    {
     "name": "stdout",
     "output_type": "stream",
     "text": [
      "Moviepy - Done !\n",
      "Moviepy - video ready /home/chenwei/Desktop/Github/T2Vmodels/datasets/cogvideos/88.mp4\n",
      "Moviepy - Building video /home/chenwei/Desktop/Github/T2Vmodels/datasets/cogvideos/89.mp4.\n",
      "Moviepy - Writing video /home/chenwei/Desktop/Github/T2Vmodels/datasets/cogvideos/89.mp4\n",
      "\n"
     ]
    },
    {
     "name": "stderr",
     "output_type": "stream",
     "text": [
      "                                                   \r"
     ]
    },
    {
     "name": "stdout",
     "output_type": "stream",
     "text": [
      "Moviepy - Done !\n",
      "Moviepy - video ready /home/chenwei/Desktop/Github/T2Vmodels/datasets/cogvideos/89.mp4\n",
      "Moviepy - Building video /home/chenwei/Desktop/Github/T2Vmodels/datasets/cogvideos/90.mp4.\n",
      "Moviepy - Writing video /home/chenwei/Desktop/Github/T2Vmodels/datasets/cogvideos/90.mp4\n",
      "\n"
     ]
    },
    {
     "name": "stderr",
     "output_type": "stream",
     "text": [
      "                                                   \r"
     ]
    },
    {
     "name": "stdout",
     "output_type": "stream",
     "text": [
      "Moviepy - Done !\n",
      "Moviepy - video ready /home/chenwei/Desktop/Github/T2Vmodels/datasets/cogvideos/90.mp4\n",
      "Moviepy - Building video /home/chenwei/Desktop/Github/T2Vmodels/datasets/cogvideos/91.mp4.\n",
      "Moviepy - Writing video /home/chenwei/Desktop/Github/T2Vmodels/datasets/cogvideos/91.mp4\n",
      "\n"
     ]
    },
    {
     "name": "stderr",
     "output_type": "stream",
     "text": [
      "                                                   \r"
     ]
    },
    {
     "name": "stdout",
     "output_type": "stream",
     "text": [
      "Moviepy - Done !\n",
      "Moviepy - video ready /home/chenwei/Desktop/Github/T2Vmodels/datasets/cogvideos/91.mp4\n",
      "Moviepy - Building video /home/chenwei/Desktop/Github/T2Vmodels/datasets/cogvideos/92.mp4.\n",
      "Moviepy - Writing video /home/chenwei/Desktop/Github/T2Vmodels/datasets/cogvideos/92.mp4\n",
      "\n"
     ]
    },
    {
     "name": "stderr",
     "output_type": "stream",
     "text": [
      "                                                   \r"
     ]
    },
    {
     "name": "stdout",
     "output_type": "stream",
     "text": [
      "Moviepy - Done !\n",
      "Moviepy - video ready /home/chenwei/Desktop/Github/T2Vmodels/datasets/cogvideos/92.mp4\n",
      "Moviepy - Building video /home/chenwei/Desktop/Github/T2Vmodels/datasets/cogvideos/93.mp4.\n",
      "Moviepy - Writing video /home/chenwei/Desktop/Github/T2Vmodels/datasets/cogvideos/93.mp4\n",
      "\n"
     ]
    },
    {
     "name": "stderr",
     "output_type": "stream",
     "text": [
      "                                                   \r"
     ]
    },
    {
     "name": "stdout",
     "output_type": "stream",
     "text": [
      "Moviepy - Done !\n",
      "Moviepy - video ready /home/chenwei/Desktop/Github/T2Vmodels/datasets/cogvideos/93.mp4\n",
      "Moviepy - Building video /home/chenwei/Desktop/Github/T2Vmodels/datasets/cogvideos/94.mp4.\n",
      "Moviepy - Writing video /home/chenwei/Desktop/Github/T2Vmodels/datasets/cogvideos/94.mp4\n",
      "\n"
     ]
    },
    {
     "name": "stderr",
     "output_type": "stream",
     "text": [
      "                                                   \r"
     ]
    },
    {
     "name": "stdout",
     "output_type": "stream",
     "text": [
      "Moviepy - Done !\n",
      "Moviepy - video ready /home/chenwei/Desktop/Github/T2Vmodels/datasets/cogvideos/94.mp4\n",
      "Moviepy - Building video /home/chenwei/Desktop/Github/T2Vmodels/datasets/cogvideos/95.mp4.\n",
      "Moviepy - Writing video /home/chenwei/Desktop/Github/T2Vmodels/datasets/cogvideos/95.mp4\n",
      "\n"
     ]
    },
    {
     "name": "stderr",
     "output_type": "stream",
     "text": [
      "                                                   \r"
     ]
    },
    {
     "name": "stdout",
     "output_type": "stream",
     "text": [
      "Moviepy - Done !\n",
      "Moviepy - video ready /home/chenwei/Desktop/Github/T2Vmodels/datasets/cogvideos/95.mp4\n",
      "Moviepy - Building video /home/chenwei/Desktop/Github/T2Vmodels/datasets/cogvideos/96.mp4.\n",
      "Moviepy - Writing video /home/chenwei/Desktop/Github/T2Vmodels/datasets/cogvideos/96.mp4\n",
      "\n"
     ]
    },
    {
     "name": "stderr",
     "output_type": "stream",
     "text": [
      "                                                   \r"
     ]
    },
    {
     "name": "stdout",
     "output_type": "stream",
     "text": [
      "Moviepy - Done !\n",
      "Moviepy - video ready /home/chenwei/Desktop/Github/T2Vmodels/datasets/cogvideos/96.mp4\n",
      "Moviepy - Building video /home/chenwei/Desktop/Github/T2Vmodels/datasets/cogvideos/97.mp4.\n",
      "Moviepy - Writing video /home/chenwei/Desktop/Github/T2Vmodels/datasets/cogvideos/97.mp4\n",
      "\n"
     ]
    },
    {
     "name": "stderr",
     "output_type": "stream",
     "text": [
      "                                                             \r"
     ]
    },
    {
     "name": "stdout",
     "output_type": "stream",
     "text": [
      "Moviepy - Done !\n",
      "Moviepy - video ready /home/chenwei/Desktop/Github/T2Vmodels/datasets/cogvideos/97.mp4\n",
      "Moviepy - Building video /home/chenwei/Desktop/Github/T2Vmodels/datasets/cogvideos/98.mp4.\n",
      "Moviepy - Writing video /home/chenwei/Desktop/Github/T2Vmodels/datasets/cogvideos/98.mp4\n",
      "\n"
     ]
    },
    {
     "name": "stderr",
     "output_type": "stream",
     "text": [
      "                                                   \r"
     ]
    },
    {
     "name": "stdout",
     "output_type": "stream",
     "text": [
      "Moviepy - Done !\n",
      "Moviepy - video ready /home/chenwei/Desktop/Github/T2Vmodels/datasets/cogvideos/98.mp4\n",
      "Moviepy - Building video /home/chenwei/Desktop/Github/T2Vmodels/datasets/cogvideos/99.mp4.\n",
      "Moviepy - Writing video /home/chenwei/Desktop/Github/T2Vmodels/datasets/cogvideos/99.mp4\n",
      "\n"
     ]
    },
    {
     "name": "stderr",
     "output_type": "stream",
     "text": [
      "                                                   \r"
     ]
    },
    {
     "name": "stdout",
     "output_type": "stream",
     "text": [
      "Moviepy - Done !\n",
      "Moviepy - video ready /home/chenwei/Desktop/Github/T2Vmodels/datasets/cogvideos/99.mp4\n",
      "Moviepy - Building video /home/chenwei/Desktop/Github/T2Vmodels/datasets/cogvideos/100.mp4.\n",
      "Moviepy - Writing video /home/chenwei/Desktop/Github/T2Vmodels/datasets/cogvideos/100.mp4\n",
      "\n"
     ]
    },
    {
     "name": "stderr",
     "output_type": "stream",
     "text": [
      "                                                             \r"
     ]
    },
    {
     "name": "stdout",
     "output_type": "stream",
     "text": [
      "Moviepy - Done !\n",
      "Moviepy - video ready /home/chenwei/Desktop/Github/T2Vmodels/datasets/cogvideos/100.mp4\n",
      "-----CONVERSION ALL DONE-----\n"
     ]
    }
   ],
   "source": [
    "# convert cogvideo gif to mp4 format\n",
    "for i in range(101):\n",
    "    clip = mp.VideoFileClip(f'{path}/cogvideos/gif/{i}.gif')\n",
    "    clip.write_videofile(f'{path}/cogvideos/{i}.mp4')\n",
    "print(\"-----CONVERSION ALL DONE-----\")"
   ]
  },
  {
   "cell_type": "markdown",
   "metadata": {},
   "source": [
    "## Load video in array"
   ]
  },
  {
   "cell_type": "code",
   "execution_count": 15,
   "metadata": {},
   "outputs": [],
   "source": [
    "# load all the cogvideos and convert them to np array\n",
    "# reshpae: T, FPS, H, W, C\n",
    "# cogvideos: 101 videos, each video has 8 frames, each frame has 480*480*3\n",
    "cogvd_list = []\n",
    "for i in range(101):\n",
    "    cogvd = skvideo.io.vread(f\"{path}/cogvideos/{i}.mp4\")[:-1,:,:,:]\n",
    "    re_cogvd = np.reshape(cogvd, (-1,8,480,480,3))\n",
    "    cogvd_list.append(re_cogvd)"
   ]
  },
  {
   "cell_type": "code",
   "execution_count": 16,
   "metadata": {},
   "outputs": [],
   "source": [
    "# diffusion-videos: 101 videos, each video has 8 frames, each frame has 480*480*3\n",
    "diffvd_list = []\n",
    "for i in range(101):\n",
    "    diffvd = skvideo.io.vread(f\"{path}/diffvideos/{i}.mp4\")\n",
    "    re_diffvd = np.reshape(diffvd, (-1,8,480,480,3))\n",
    "    diffvd_list.append(re_diffvd)"
   ]
  },
  {
   "cell_type": "code",
   "execution_count": 17,
   "metadata": {},
   "outputs": [],
   "source": [
    "aphvd_list = []\n",
    "for i in range(101):\n",
    "    aphvd = skvideo.io.vread(f\"{path}/aphvideos/{i}.mp4\")\n",
    "    re_aphvd = np.reshape(aphvd, (-1,8,480,480,3))\n",
    "    aphvd_list.append(re_aphvd)"
   ]
  },
  {
   "cell_type": "code",
   "execution_count": 18,
   "metadata": {},
   "outputs": [],
   "source": [
    "\"\"\"save video arrays to the npz file for further evaluation\n",
    "\"\"\"\n",
    "# with open(f'{path}/video_arrays.npz',\"wb\") as fs:\n",
    "#     np.savez(fs, \n",
    "#              cog_arr = cogvd_list,\n",
    "#              diff_arr = diffvd_list,\n",
    "#              aph_arr = aphvd_list)"
   ]
  },
  {
   "cell_type": "code",
   "execution_count": null,
   "metadata": {},
   "outputs": [],
   "source": [
    "np.load(f'{path}/video_arrays.npz',\"r\").files"
   ]
  },
  {
   "cell_type": "code",
   "execution_count": 7,
   "metadata": {},
   "outputs": [
    {
     "data": {
      "text/plain": [
       "'1.21.5'"
      ]
     },
     "execution_count": 7,
     "metadata": {},
     "output_type": "execute_result"
    }
   ],
   "source": [
    "np.__version__"
   ]
  },
  {
   "cell_type": "code",
   "execution_count": 8,
   "metadata": {},
   "outputs": [],
   "source": [
    "arr = np.load(f'{path}/video_arrays.npz',\"r\")"
   ]
  },
  {
   "cell_type": "code",
   "execution_count": 39,
   "metadata": {},
   "outputs": [],
   "source": [
    "import numpy as np\n",
    "import cv2\n",
    "size = 480,480\n",
    "duration = 5\n",
    "fps = 8\n",
    "out = cv2.VideoWriter('output.mp4', cv2.VideoWriter_fourcc(*'mp4v'), fps, (size[1], size[0]), False)\n",
    "for _ in range(fps * duration):\n",
    "    data = revideo\n",
    "    out.write(data)\n",
    "out.release()"
   ]
  },
  {
   "cell_type": "code",
   "execution_count": null,
   "metadata": {},
   "outputs": [],
   "source": []
  }
 ],
 "metadata": {
  "kernelspec": {
   "display_name": "Python 3.8.13 ('torch')",
   "language": "python",
   "name": "python3"
  },
  "language_info": {
   "codemirror_mode": {
    "name": "ipython",
    "version": 3
   },
   "file_extension": ".py",
   "mimetype": "text/x-python",
   "name": "python",
   "nbconvert_exporter": "python",
   "pygments_lexer": "ipython3",
   "version": "3.8.13"
  },
  "orig_nbformat": 4,
  "vscode": {
   "interpreter": {
    "hash": "7906b03bb183ed78d6fd4dcd1a15810781f92422554a5c86f851ec82bdea928b"
   }
  }
 },
 "nbformat": 4,
 "nbformat_minor": 2
}
