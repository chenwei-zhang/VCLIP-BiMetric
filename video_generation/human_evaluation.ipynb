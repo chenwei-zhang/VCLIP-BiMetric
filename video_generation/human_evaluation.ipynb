{
 "cells": [
  {
   "cell_type": "code",
   "execution_count": 61,
   "metadata": {},
   "outputs": [],
   "source": [
    "import numpy as np\n",
    "import torch"
   ]
  },
  {
   "cell_type": "code",
   "execution_count": 62,
   "metadata": {},
   "outputs": [],
   "source": [
    "path = '/home/chenwei/Desktop/Github/T2Vmodels/datasets'"
   ]
  },
  {
   "cell_type": "code",
   "execution_count": 63,
   "metadata": {},
   "outputs": [],
   "source": [
    "# load the text data\n",
    "with open(f'{path}/humaneval_score.txt') as f:\n",
    "    raw_score = f.readlines()"
   ]
  },
  {
   "cell_type": "code",
   "execution_count": 68,
   "metadata": {},
   "outputs": [],
   "source": [
    "# remove the id and '\\n' in the begining and end of each prompt\n",
    "score_list = []\n",
    "for i, raw in enumerate(raw_score[1:]):\n",
    "    score_raw = raw.split(\":\")[1]\n",
    "    score = np.array(score_raw.split(\",\"), dtype=np.int64)\n",
    "    score_list.append(score)\n",
    "score_list = np.array(score_list)"
   ]
  },
  {
   "cell_type": "code",
   "execution_count": 69,
   "metadata": {},
   "outputs": [
    {
     "data": {
      "text/plain": [
       "(101, 3)"
      ]
     },
     "execution_count": 69,
     "metadata": {},
     "output_type": "execute_result"
    }
   ],
   "source": [
    "score_list.shape"
   ]
  },
  {
   "cell_type": "code",
   "execution_count": 70,
   "metadata": {},
   "outputs": [],
   "source": [
    "\"\"\"save human score to the npz file for further study\n",
    "\"\"\"\n",
    "with open(f'{path}/human_score.npz',\"wb\") as fs:\n",
    "    np.savez(fs, \n",
    "             human_score = score_list,\n",
    "    )"
   ]
  },
  {
   "cell_type": "code",
   "execution_count": 71,
   "metadata": {},
   "outputs": [
    {
     "data": {
      "text/plain": [
       "['human_score']"
      ]
     },
     "execution_count": 71,
     "metadata": {},
     "output_type": "execute_result"
    }
   ],
   "source": [
    "np.load(f'{path}/human_score.npz',\"r\").files"
   ]
  },
  {
   "cell_type": "code",
   "execution_count": 75,
   "metadata": {},
   "outputs": [],
   "source": [
    "arr = np.load(f'{path}/human_score.npz',\"r\")['human_score']"
   ]
  }
 ],
 "metadata": {
  "kernelspec": {
   "display_name": "torch",
   "language": "python",
   "name": "python3"
  },
  "language_info": {
   "codemirror_mode": {
    "name": "ipython",
    "version": 3
   },
   "file_extension": ".py",
   "mimetype": "text/x-python",
   "name": "python",
   "nbconvert_exporter": "python",
   "pygments_lexer": "ipython3",
   "version": "3.8.13"
  },
  "orig_nbformat": 4,
  "vscode": {
   "interpreter": {
    "hash": "7906b03bb183ed78d6fd4dcd1a15810781f92422554a5c86f851ec82bdea928b"
   }
  }
 },
 "nbformat": 4,
 "nbformat_minor": 2
}
